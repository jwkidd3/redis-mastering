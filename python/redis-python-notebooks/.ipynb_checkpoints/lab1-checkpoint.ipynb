{
  "cells": [
    {
      "cell_type": "markdown",
      "metadata": {},
      "source": [
        "# Lab 1: Redis Environment & CLI Basics\n",
        "\n",
        "**Duration:** 45 minutes  \n",
        "**Objective:** Master Redis environment setup and CLI operations using Python\n",
        "\n",
        "## 🎯 Learning Objectives\n",
        "\n",
        "- Set up Docker Redis environment\n",
        "- Connect to Redis using Python redis-py library\n",
        "- Execute basic Redis operations with Python\n",
        "- Monitor Redis operations programmatically\n",
        "- Implement error handling and connection management"
      ]
    },
    {
      "cell_type": "markdown",
      "metadata": {},
      "source": [
        "## Part 1: Environment Setup (10 minutes)"
      ]
    },
    {
      "cell_type": "code",
      "execution_count": null,
      "metadata": {},
      "outputs": [],
      "source": [
        "# Install required packages\n",
        "!pip install redis docker python-dotenv tabulate colorama pandas"
      ]
    },
    {
      "cell_type": "code",
      "execution_count": null,
      "metadata": {},
      "outputs": [],
      "source": [
        "import redis\n",
        "import docker\n",
        "import json\n",
        "import time\n",
        "from datetime import datetime, timedelta\n",
        "import os\n",
        "from dotenv import load_dotenv\n",
        "from tabulate import tabulate\n",
        "from colorama import init, Fore, Style\n",
        "import pandas as pd\n",
        "\n",
        "# Initialize colorama for colored output\n",
        "init(autoreset=True)\n",
        "\n",
        "# Load environment variables\n",
        "load_dotenv()\n",
        "\n",
        "print(f\"{Fore.GREEN}✅ Libraries imported successfully{Style.RESET_ALL}\")"
      ]
    },
    {
      "cell_type": "markdown",
      "metadata": {},
      "source": [
        "### Step 1: Start Redis Container"
      ]
    },
    {
      "cell_type": "code",
      "execution_count": null,
      "metadata": {},
      "outputs": [],
      "source": [
        "# Docker client setup\n",
        "docker_client = docker.from_env()\n",
        "\n",
        "# Check if Redis container exists and remove if it does\n",
        "try:\n",
        "    existing_container = docker_client.containers.get('redis-lab1')\n",
        "    existing_container.stop()\n",
        "    existing_container.remove()\n",
        "    print(f\"{Fore.YELLOW}⚠️ Removed existing container{Style.RESET_ALL}\")\n",
        "except docker.errors.NotFound:\n",
        "    pass\n",
        "\n",
        "# Start new Redis container\n",
        "container = docker_client.containers.run(\n",
        "    'redis:7-alpine',\n",
        "    name='redis-lab1',\n",
        "    ports={'6379/tcp': 6379},\n",
        "    detach=True,\n",
        "    command='redis-server --maxmemory 256mb --maxmemory-policy allkeys-lru'\n",
        ")\n",
        "\n",
        "# Wait for container to be ready\n",
        "time.sleep(2)\n",
        "print(f\"{Fore.GREEN}✅ Redis container 'redis-lab1' started successfully{Style.RESET_ALL}\")\n",
        "print(f\"Container ID: {container.short_id}\")"
      ]
    },
    {
      "cell_type": "markdown",
      "metadata": {},
      "source": [
        "### Step 2: Connect to Redis"
      ]
    },
    {
      "cell_type": "code",
      "execution_count": null,
      "metadata": {},
      "outputs": [],
      "source": [
        "# Create Redis connection\n",
        "try:\n",
        "    r = redis.Redis(\n",
        "        host='localhost',\n",
        "        port=6379,\n",
        "        db=0,\n",
        "        decode_responses=True  # Decode responses to strings\n",
        "    )\n",
        "    \n",
        "    # Test connection\n",
        "    ping_response = r.ping()\n",
        "    print(f\"{Fore.GREEN}✅ Connected to Redis: {ping_response}{Style.RESET_ALL}\")\n",
        "    \n",
        "    # Get server info\n",
        "    info = r.info('server')\n",
        "    print(f\"\\nRedis Version: {info['redis_version']}\")\n",
        "    print(f\"Mode: {info['redis_mode']}\")\n",
        "    print(f\"TCP Port: {info['tcp_port']}\")\n",
        "    \n",
        "except redis.ConnectionError as e:\n",
        "    print(f\"{Fore.RED}❌ Failed to connect to Redis: {e}{Style.RESET_ALL}\")"
      ]
    },
    {
      "cell_type": "markdown",
      "metadata": {},
      "source": [
        "## Part 2: Basic Redis Operations (15 minutes)\n",
        "\n",
        "### Working with Strings"
      ]
    },
    {
      "cell_type": "code",
      "execution_count": null,
      "metadata": {},
      "outputs": [],
      "source": [
        "# String operations\n",
        "print(f\"{Fore.CYAN}=== STRING OPERATIONS ==={Style.RESET_ALL}\\n\")\n",
        "\n",
        "# SET and GET\n",
        "r.set('customer:1001:name', 'John Smith')\n",
        "r.set('customer:1001:email', 'john.smith@example.com')\n",
        "r.set('customer:1001:policy', 'POL-2024-1001')\n",
        "\n",
        "# Retrieve values\n",
        "name = r.get('customer:1001:name')\n",
        "email = r.get('customer:1001:email')\n",
        "policy = r.get('customer:1001:policy')\n",
        "\n",
        "print(f\"Customer Name: {name}\")\n",
        "print(f\"Email: {email}\")\n",
        "print(f\"Policy: {policy}\")\n",
        "\n",
        "# SET with expiration (TTL)\n",
        "r.setex('session:abc123', 3600, 'user:1001')  # Expires in 1 hour\n",
        "ttl = r.ttl('session:abc123')\n",
        "print(f\"\\nSession TTL: {ttl} seconds\")\n",
        "\n",
        "# Atomic increment/decrement\n",
        "r.set('quote:counter', '1000')\n",
        "new_quote_id = r.incr('quote:counter')\n",
        "print(f\"\\nNew Quote ID: QUO-{new_quote_id}\")"
      ]
    },
    {
      "cell_type": "markdown",
      "metadata": {},
      "source": [
        "### Working with Multiple Keys"
      ]
    },
    {
      "cell_type": "code",
      "execution_count": null,
      "metadata": {},
      "outputs": [],
      "source": [
        "# Batch operations with MSET and MGET\n",
        "print(f\"{Fore.CYAN}=== BATCH OPERATIONS ==={Style.RESET_ALL}\\n\")\n",
        "\n",
        "# Set multiple keys at once\n",
        "policy_data = {\n",
        "    'policy:POL-2024-1001:type': 'AUTO',\n",
        "    'policy:POL-2024-1001:premium': '1200',\n",
        "    'policy:POL-2024-1001:status': 'ACTIVE',\n",
        "    'policy:POL-2024-1001:start_date': '2024-01-01',\n",
        "    'policy:POL-2024-1001:end_date': '2025-01-01'\n",
        "}\n",
        "\n",
        "r.mset(policy_data)\n",
        "print(\"✅ Policy data saved\")\n",
        "\n",
        "# Get multiple keys at once\n",
        "keys = list(policy_data.keys())\n",
        "values = r.mget(keys)\n",
        "\n",
        "# Display as table\n",
        "table_data = []\n",
        "for key, value in zip(keys, values):\n",
        "    field = key.split(':')[-1]\n",
        "    table_data.append([field, value])\n",
        "\n",
        "print(\"\\nPolicy Details:\")\n",
        "print(tabulate(table_data, headers=['Field', 'Value'], tablefmt='grid'))"
      ]
    },
    {
      "cell_type": "markdown",
      "metadata": {},
      "source": [
        "## Part 3: Redis Monitoring (10 minutes)"
      ]
    },
    {
      "cell_type": "code",
      "execution_count": null,
      "metadata": {},
      "outputs": [],
      "source": [
        "# Create a monitoring function\n",
        "def monitor_redis_operations(duration=5):\n",
        "    \"\"\"Monitor Redis operations for specified duration.\"\"\"\n",
        "    print(f\"{Fore.CYAN}=== MONITORING REDIS OPERATIONS ==={Style.RESET_ALL}\")\n",
        "    print(f\"Monitoring for {duration} seconds...\\n\")\n",
        "    \n",
        "    # Create a separate connection for monitoring\n",
        "    monitor_conn = redis.Redis(host='localhost', port=6379, decode_responses=True)\n",
        "    \n",
        "    # Get initial stats\n",
        "    info_before = monitor_conn.info('stats')\n",
        "    ops_before = info_before.get('total_commands_processed', 0)\n",
        "    \n",
        "    # Perform some operations\n",
        "    for i in range(10):\n",
        "        r.set(f'test:key:{i}', f'value_{i}')\n",
        "        r.get(f'test:key:{i}')\n",
        "        time.sleep(0.5)\n",
        "    \n",
        "    # Get final stats\n",
        "    info_after = monitor_conn.info('stats')\n",
        "    ops_after = info_after.get('total_commands_processed', 0)\n",
        "    \n",
        "    # Calculate and display statistics\n",
        "    ops_executed = ops_after - ops_before\n",
        "    print(f\"\\n📊 Statistics:\")\n",
        "    print(f\"  Total operations executed: {ops_executed}\")\n",
        "    print(f\"  Operations per second: {ops_executed/duration:.2f}\")\n",
        "    print(f\"  Total connections received: {info_after.get('total_connections_received', 0)}\")\n",
        "    print(f\"  Instantaneous ops/sec: {info_after.get('instantaneous_ops_per_sec', 0)}\")\n",
        "\n",
        "# Run monitoring\n",
        "monitor_redis_operations(5)"
      ]
    },
    {
      "cell_type": "markdown",
      "metadata": {},
      "source": [
        "## Part 4: Cleanup"
      ]
    },
    {
      "cell_type": "code",
      "execution_count": null,
      "metadata": {},
      "outputs": [],
      "source": [
        "# Cleanup function\n",
        "def cleanup():\n",
        "    \"\"\"Clean up Redis keys and close connections.\"\"\"\n",
        "    # Delete test keys\n",
        "    for key in r.keys('test:*'):\n",
        "        r.delete(key)\n",
        "    \n",
        "    print(f\"{Fore.GREEN}✅ Cleanup completed{Style.RESET_ALL}\")\n",
        "\n",
        "cleanup()"
      ]
    }
  ],
  "metadata": {
    "kernelspec": {
      "display_name": "Python 3 (ipykernel)",
      "language": "python",
      "name": "python3"
    },
    "language_info": {
      "codemirror_mode": {
        "name": "ipython",
        "version": 3
      },
      "file_extension": ".py",
      "mimetype": "text/x-python",
      "name": "python",
      "nbconvert_exporter": "python",
      "pygments_lexer": "ipython3",
      "version": "3.9.0"
    }
  },
  "nbformat": 4,
  "nbformat_minor": 5
}
